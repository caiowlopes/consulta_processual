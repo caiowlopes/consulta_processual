{
 "cells": [
  {
   "cell_type": "code",
   "execution_count": 1,
   "metadata": {},
   "outputs": [],
   "source": [
    "#  Bibliotecas\n",
    "import time\n",
    "import pyautogui as po\n",
    "import pandas as pd \n",
    "from selenium import webdriver\n",
    "from selenium.webdriver.common.keys import Keys\n",
    "from selenium.webdriver.common.by import By\n",
    "from selenium.webdriver.support.ui import WebDriverWait\n",
    "from selenium.webdriver.support import expected_conditions as EC\n",
    "from selenium.common.exceptions import NoSuchElementException\n",
    "from selenium.common.exceptions import TimeoutException\n",
    "from selenium.webdriver.support.select import Select\n",
    "from webdriver_manager.chrome import ChromeDriverManager\n",
    "from selenium.webdriver.chrome.service import Service\n",
    "from datetime import datetime\n",
    "from selenium.common.exceptions import WebDriverException     \n"
   ]
  },
  {
   "cell_type": "code",
   "execution_count": 3,
   "metadata": {},
   "outputs": [],
   "source": [
    "# Xpaths\n",
    "xpath_login_feds = ' //*[@id=\"txtUsuario\"] '     \n",
    "xpath_senha_feds = '//*[@id=\"pwdSenha\"] '  \n",
    "xpath_adv_feds = ' //*[@id=\"tr0\"] '\n",
    "xpath_menu_consulta_feds = '//*[@id=\"main-menu\"]/li[4]/a' \n",
    "xpath_consul_processual_feds ='//*[@id=\"menu-ul-3\"]/li/a'\n",
    "xpath_carlos_feds ='//*[@id=\"numNrProcesso\"]'\n",
    "\n",
    "# Outras variaveis \n",
    "url_feds1 = 'https://www.jusbrasil.com.br/consulta-processual/'\n",
    "delay0 = 10"
   ]
  },
  {
   "cell_type": "code",
   "execution_count": 4,
   "metadata": {},
   "outputs": [],
   "source": [
    "# Parte PD\n",
    "# Importaçao da planilha com os processos\n",
    "plan_name = 'Planilha_Processos.xlsx'\n",
    "sheet_name = 'feds1'\n",
    "\n",
    "tabela_original = pd.read_excel(plan_name, sheet_name = sheet_name) \n",
    "\n",
    "processos_df = pd.DataFrame() \n",
    "processos_df[\"Processo\"] = tabela_original[\"Processo\"] "
   ]
  },
  {
   "cell_type": "code",
   "execution_count": 5,
   "metadata": {
    "collapsed": true
   },
   "outputs": [
    {
     "name": "stdout",
     "output_type": "stream",
     "text": [
      "\n"
     ]
    },
    {
     "name": "stderr",
     "output_type": "stream",
     "text": [
      "[WDM] - ====== WebDriver manager ======\n",
      "[WDM] - Current google-chrome version is 108.0.5359\n",
      "[WDM] - Get LATEST chromedriver version for 108.0.5359 google-chrome\n",
      "[WDM] - Driver [C:\\Users\\caiow\\.wdm\\drivers\\chromedriver\\win32\\108.0.5359.71\\chromedriver.exe] found in cache\n"
     ]
    }
   ],
   "source": [
    "# Puxar o nav\n",
    "service = Service(ChromeDriverManager().install())\n",
    "driver = webdriver.Chrome(service=service) \n",
    "driver.get(url_feds1) \n",
    "\n",
    "# Pegar Login e Senha\n",
    "login = po.prompt(text='Insira seu login: ', title='Login' )\n",
    "time.sleep(0.5)\n",
    "senha = po.password(text ='Insira sua senha: ',title='Senha: ', mask='*')\n",
    "\n",
    "inicio = datetime.now()\n",
    "\n",
    "# Pop-up accept\n",
    "time.sleep(3)\n",
    "driver.switch_to.alert.accept()\n",
    "\n",
    "# Por login e senha\n",
    "driver.find_element(By.XPATH,xpath_login_feds).send_keys(login)\n",
    "\n",
    "# inicio do Fast break; Pegar id das telas \n",
    "id_wind1 = driver.window_handles \n",
    "# fim do Fast break\n",
    "\n",
    "driver.find_element(By.XPATH,xpath_senha_feds).send_keys(senha+ Keys.RETURN)\n",
    "\n",
    "# Login adevogrado \n",
    "WebDriverWait(driver, delay0).until(EC.element_to_be_clickable((By.XPATH, xpath_adv_feds))).click()\n",
    "\n",
    "# indo pra tela de consulta processual\n",
    "WebDriverWait(driver, delay0).until(EC.element_to_be_clickable((By.XPATH, xpath_menu_consulta_feds))).click()\n",
    "WebDriverWait(driver, delay0).until(EC.element_to_be_clickable((By.XPATH, xpath_consul_processual_feds))).click()"
   ]
  },
  {
   "cell_type": "code",
   "execution_count": 6,
   "metadata": {
    "collapsed": true
   },
   "outputs": [
    {
     "name": "stdout",
     "output_type": "stream",
     "text": [
      "13/12/2021 13:55:38\n",
      "27/08/2021 12:20:54\n",
      "21/12/2022 14:27:47\n",
      "15/12/2022 15:21:16\n",
      "17/11/2021 18:37:38\n",
      "21/06/2022 12:33:33\n",
      "11/05/2021 15:23:30\n",
      "31/08/2021 05:27:30\n",
      "28/07/2022 01:18:04\n",
      "Processo: 05025164-38.2021.4.02.9445 não achado\n",
      "07/10/2022 14:59:08\n",
      "06/05/2022 16:00:23\n",
      "01/12/2022 17:01:13\n",
      "25/05/2022 12:42:56\n",
      "07/12/2022 12:17:08\n"
     ]
    }
   ],
   "source": [
    "# Trabalho de corno; corrigir\n",
    "começo = 0\n",
    "\n",
    "for i in range (começo,tabela_original.shape[0]):\n",
    "    \n",
    "    # tratamento dos dados da planilha\n",
    "    texto_feds1 = processos_df.loc[i,\"Processo\"]    \n",
    "    \n",
    "    # Now click on carlos\n",
    "    carlos_feds1 = driver.find_element(By.XPATH, xpath_carlos_feds)\n",
    "    carlos_feds1.send_keys(texto_feds1)\n",
    "    carlos_feds1.send_keys(Keys.ENTER) \n",
    "\n",
    "    # Pegar data\n",
    "    xpath_data_feds = ' //*[contains(@id,\"trEvento\")]/td[2]'\n",
    "    time.sleep(2)\n",
    "    \n",
    "    try:\n",
    "        data_feds1 = (WebDriverWait(driver,25).until(EC.presence_of_element_located((By.XPATH,xpath_data_feds))).text)   \n",
    "        print(data_feds1)\n",
    "        data_feds1 = data_feds1[0:10]\n",
    "        data_feds1 = datetime.strptime( data_feds1, \"%d/%m/%Y\")\n",
    "        processos_df.loc[i,'Data'] = data_feds1 \n",
    "        \n",
    "        # A volta\n",
    "        driver.back()\n",
    "    except TimeoutException:\n",
    "        print(f'Processo: {texto_feds1} não achado')\n",
    "        processos_df.loc[i,'Data'] = 'Não achado '\n",
    "        carlos_feds1.clear()\n",
    "    \n",
    "    i=i+1\n",
    "    "
   ]
  },
  {
   "cell_type": "code",
   "execution_count": 7,
   "metadata": {},
   "outputs": [
    {
     "name": "stdout",
     "output_type": "stream",
     "text": [
      "Tempo levado:  0:01:26.736973\n"
     ]
    }
   ],
   "source": [
    "# finalizar\n",
    "driver.quit() \n",
    "\n",
    "# exportat excel\n",
    "processos_df.to_excel(\" Planilha_Processos_conferido.xlsx\", sheet_name = 'Feds1',index = False)\n",
    "print(\"Tempo levado: \",datetime.now()-inicio)\n",
    "#po.alert(\"Pronto!\")"
   ]
  },
  {
   "cell_type": "code",
   "execution_count": null,
   "metadata": {},
   "outputs": [],
   "source": []
  },
  {
   "cell_type": "code",
   "execution_count": null,
   "metadata": {},
   "outputs": [],
   "source": []
  },
  {
   "cell_type": "code",
   "execution_count": null,
   "metadata": {},
   "outputs": [],
   "source": []
  }
 ],
 "metadata": {
  "kernelspec": {
   "display_name": "Python 3",
   "language": "python",
   "name": "python3"
  },
  "language_info": {
   "codemirror_mode": {
    "name": "ipython",
    "version": 3
   },
   "file_extension": ".py",
   "mimetype": "text/x-python",
   "name": "python",
   "nbconvert_exporter": "python",
   "pygments_lexer": "ipython3",
   "version": "3.8.5"
  }
 },
 "nbformat": 4,
 "nbformat_minor": 4
}
